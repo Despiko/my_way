{
 "cells": [
  {
   "cell_type": "code",
   "execution_count": 1,
   "metadata": {},
   "outputs": [],
   "source": [
    "Мой супер корявый код, на эту задачу:"
   ]
  },
  {
   "cell_type": "code",
   "execution_count": null,
   "metadata": {},
   "outputs": [],
   "source": [
    "def get_key(k, p):\n",
    "    for k, v in k.items():\n",
    "        if v == p:\n",
    "            return k\n",
    "\n",
    "\n",
    "def get(name, argument):\n",
    "    if name == 'None':\n",
    "        return None\n",
    "    elif argument in arguments[name]:\n",
    "        return name\n",
    "    else:\n",
    "        try:\n",
    "            upper_arguments = get_key(namespace, name)\n",
    "        except KeyError:\n",
    "            return None\n",
    "        return get(upper_arguments, argument)"
   ]
  },
  {
   "cell_type": "code",
   "execution_count": null,
   "metadata": {},
   "outputs": [],
   "source": [
    "n = int(input())\n",
    "namespace = {'None': 'global'}\n",
    "arguments = {'global': []}\n",
    "for i in range(n):\n",
    "    cmd, namesp, arg = input().split()\n",
    "    if cmd == 'add':\n",
    "        if namesp not in arguments:\n",
    "            arguments[namesp] = []\n",
    "            arguments[namesp].append(arg)\n",
    "        else:\n",
    "            arguments[namesp].append(arg)\n",
    "    elif cmd == 'create':\n",
    "        if arg not in namespace:\n",
    "            namespace[arg] = []\n",
    "            namespace[arg].append(namesp)\n",
    "        else:\n",
    "            namespace[arg].append(namesp)\n",
    "    else:\n",
    "        print(get(namesp, arg))\n",
    "\n"
   ]
  }
 ],
 "metadata": {
  "kernelspec": {
   "display_name": "Python 3",
   "language": "python",
   "name": "python3"
  },
  "language_info": {
   "codemirror_mode": {
    "name": "ipython",
    "version": 3
   },
   "file_extension": ".py",
   "mimetype": "text/x-python",
   "name": "python",
   "nbconvert_exporter": "python",
   "pygments_lexer": "ipython3",
   "version": "3.7.3"
  }
 },
 "nbformat": 4,
 "nbformat_minor": 2
}
