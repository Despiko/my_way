{
 "cells": [
  {
   "cell_type": "code",
   "execution_count": 179,
   "metadata": {},
   "outputs": [],
   "source": [
    "def get_key(k, p):\n",
    "    for k, v in k.items():\n",
    "        if v == p:\n",
    "            return k\n",
    "\n",
    "\n",
    "def get(name, argument):\n",
    "    if name == 'None':\n",
    "        return None\n",
    "    elif argument in arguments[name]:\n",
    "        return name\n",
    "    else:\n",
    "        try:\n",
    "            upper_arguments = get_key(namespace, name)\n",
    "        except KeyError:\n",
    "            return None\n",
    "        return get(upper_arguments, argument)"
   ]
  },
  {
   "cell_type": "code",
   "execution_count": 161,
   "metadata": {},
   "outputs": [
    {
     "name": "stdout",
     "output_type": "stream",
     "text": [
      "3\n",
      "add global a\n",
      "create foo global\n",
      "add foo b\n"
     ]
    }
   ],
   "source": [
    "n = int(input())\n",
    "namespace = {'None': 'global'}\n",
    "arguments = {'global': []}\n",
    "for i in range(n):\n",
    "    cmd, namesp, arg = input().split()\n",
    "    if cmd == 'add':\n",
    "        if namesp not in arguments:\n",
    "            arguments[namesp] = []\n",
    "            arguments[namesp].append(arg)\n",
    "        else:\n",
    "            arguments[namesp].append(arg)\n",
    "    elif cmd == 'create':\n",
    "        if arg not in namespace:\n",
    "            namespace[arg] = []\n",
    "            namespace[arg].append(namesp)\n",
    "        else:\n",
    "            namespace[arg].append(namesp)\n",
    "    else:\n",
    "        print(get(namesp, arg))\n",
    "\n"
   ]
  },
  {
   "cell_type": "code",
   "execution_count": 162,
   "metadata": {},
   "outputs": [
    {
     "data": {
      "text/plain": [
       "{'global': ['a'], 'foo': ['b']}"
      ]
     },
     "execution_count": 162,
     "metadata": {},
     "output_type": "execute_result"
    }
   ],
   "source": []
  },
  {
   "cell_type": "code",
   "execution_count": 170,
   "metadata": {},
   "outputs": [
    {
     "data": {
      "text/plain": [
       "{'None': 'global', 'global': 'foo'}"
      ]
     },
     "execution_count": 170,
     "metadata": {},
     "output_type": "execute_result"
    }
   ],
   "source": []
  },
  {
   "cell_type": "code",
   "execution_count": 173,
   "metadata": {},
   "outputs": [],
   "source": []
  },
  {
   "cell_type": "code",
   "execution_count": 178,
   "metadata": {},
   "outputs": [
    {
     "name": "stdout",
     "output_type": "stream",
     "text": [
      "global\n"
     ]
    }
   ],
   "source": []
  },
  {
   "cell_type": "code",
   "execution_count": 85,
   "metadata": {},
   "outputs": [],
   "source": []
  },
  {
   "cell_type": "code",
   "execution_count": 87,
   "metadata": {},
   "outputs": [
    {
     "name": "stdout",
     "output_type": "stream",
     "text": [
      "0.00034130490218242394 -0.0009281287449952389 -0.018375829214067087 0.6988311947875112 0.077338529388775 0.034981258346537834\n"
     ]
    }
   ],
   "source": []
  },
  {
   "cell_type": "code",
   "execution_count": 121,
   "metadata": {},
   "outputs": [
    {
     "data": {
      "text/plain": [
       "5.0"
      ]
     },
     "execution_count": 121,
     "metadata": {},
     "output_type": "execute_result"
    }
   ],
   "source": []
  },
  {
   "cell_type": "code",
   "execution_count": null,
   "metadata": {},
   "outputs": [],
   "source": []
  },
  {
   "cell_type": "code",
   "execution_count": null,
   "metadata": {},
   "outputs": [],
   "source": []
  }
 ],
 "metadata": {
  "kernelspec": {
   "display_name": "Python 3",
   "language": "python",
   "name": "python3"
  },
  "language_info": {
   "codemirror_mode": {
    "name": "ipython",
    "version": 3
   },
   "file_extension": ".py",
   "mimetype": "text/x-python",
   "name": "python",
   "nbconvert_exporter": "python",
   "pygments_lexer": "ipython3",
   "version": "3.7.3"
  }
 },
 "nbformat": 4,
 "nbformat_minor": 2
}
